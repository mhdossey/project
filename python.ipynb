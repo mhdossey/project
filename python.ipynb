{
  "nbformat": 4,
  "nbformat_minor": 0,
  "metadata": {
    "colab": {
      "provenance": [],
      "authorship_tag": "ABX9TyOOn+opL27eVojxH8py+vZl",
      "include_colab_link": true
    },
    "kernelspec": {
      "name": "python3",
      "display_name": "Python 3"
    },
    "language_info": {
      "name": "python"
    }
  },
  "cells": [
    {
      "cell_type": "markdown",
      "metadata": {
        "id": "view-in-github",
        "colab_type": "text"
      },
      "source": [
        "<a href=\"https://colab.research.google.com/github/mhdossey/project/blob/main/python.ipynb\" target=\"_parent\"><img src=\"https://colab.research.google.com/assets/colab-badge.svg\" alt=\"Open In Colab\"/></a>"
      ]
    },
    {
      "cell_type": "code",
      "source": [
        "class Person:\n",
        "  pass\n",
        "p = Person()\n",
        "print(p)"
      ],
      "metadata": {
        "colab": {
          "base_uri": "https://localhost:8080/"
        },
        "id": "S2KkSaZj4h3q",
        "outputId": "641c515e-bb01-45de-f5f9-a70efb5293f9"
      },
      "execution_count": null,
      "outputs": [
        {
          "output_type": "stream",
          "name": "stdout",
          "text": [
            "<__main__.Person object at 0x7f0c202e0cd0>\n"
          ]
        }
      ]
    },
    {
      "cell_type": "code",
      "source": [
        "class Person:\n",
        "  def say_hi(self):\n",
        "    print('hello, how are you?')\n",
        "p = Person()\n",
        "p.say_hi()"
      ],
      "metadata": {
        "colab": {
          "base_uri": "https://localhost:8080/"
        },
        "id": "J-3R-AAS4-Om",
        "outputId": "945ab92d-9824-4af2-bd6a-171f66018888"
      },
      "execution_count": null,
      "outputs": [
        {
          "output_type": "stream",
          "name": "stdout",
          "text": [
            "hello, how are you?\n"
          ]
        }
      ]
    },
    {
      "cell_type": "code",
      "source": [
        "file_path = '/content/Machine_Learning_AI.txt'"
      ],
      "metadata": {
        "id": "22S_vuBf6iGG"
      },
      "execution_count": null,
      "outputs": []
    },
    {
      "cell_type": "code",
      "source": [
        "our_text_file = open(file_path,'r')"
      ],
      "metadata": {
        "id": "472QW4066pNl"
      },
      "execution_count": null,
      "outputs": []
    },
    {
      "cell_type": "code",
      "source": [
        "print(our_text_file.name)"
      ],
      "metadata": {
        "colab": {
          "base_uri": "https://localhost:8080/"
        },
        "id": "Ihz1gaGz68uC",
        "outputId": "e57adce3-ceb4-467c-e90a-a88a7525aff9"
      },
      "execution_count": null,
      "outputs": [
        {
          "output_type": "stream",
          "name": "stdout",
          "text": [
            "/content/Machine_Learning_AI.txt\n"
          ]
        }
      ]
    },
    {
      "cell_type": "code",
      "source": [
        "print(our_text_file.mode)"
      ],
      "metadata": {
        "colab": {
          "base_uri": "https://localhost:8080/"
        },
        "id": "cbPYu-yr6_21",
        "outputId": "26108b72-50d4-48ea-8472-67e709ab71c2"
      },
      "execution_count": null,
      "outputs": [
        {
          "output_type": "stream",
          "name": "stdout",
          "text": [
            "r\n"
          ]
        }
      ]
    },
    {
      "cell_type": "code",
      "source": [
        "our_text_file.close()"
      ],
      "metadata": {
        "id": "F5c-N-m-7DB_"
      },
      "execution_count": null,
      "outputs": []
    },
    {
      "cell_type": "code",
      "source": [
        "with open(file_path,'r') as active_file:\n",
        "  file_content = active_file.read()\n",
        "  print(file_content)"
      ],
      "metadata": {
        "colab": {
          "base_uri": "https://localhost:8080/"
        },
        "id": "XoCktpW87Jkw",
        "outputId": "0ad6eae6-ddfc-4307-a1dd-3eca77820520"
      },
      "execution_count": null,
      "outputs": [
        {
          "output_type": "stream",
          "name": "stdout",
          "text": [
            "Unit 1: Introduction To Python - \n",
            "\n",
            "Intro to the Python Programming language\n",
            "Control structures and functions\n",
            "Importing libraries - Numpy and Pandas Basics\n",
            "Data wrangling and cleaning\n",
            "Exploratory Data Analysis and descriptive statistics\n",
            "\n",
            "Unit 2: Database Management - \n",
            "\n",
            "Introduction to Databases and SQL\n",
            "Retrieving data with SQL\n",
            "Writing SQL Queries\n",
            "Functions and aggregations\n",
            "Joins in SQL\n",
            "\n",
            "Unit 3: Statistics and Data Visualisation - \n",
            "\n",
            "Data Visualisation using matplotlib/seaborn\n",
            "Plotting Data distributions\n",
            "Introduction to probability\n",
            "Discrete and Continuous probability distributions\n",
            "Inferential Statistics and Hypothesis testing\n",
            "\n",
            "Unit 4: Machine Learning:\n",
            "\n",
            "Introduction to machine learning models \n",
            "Simple and Multiple Regression Models\n",
            "Logistic Regression\n",
            "ROC and AUC analysis\n",
            "KNN and Naive Bayes classifier\n",
            "SVM Classification and Regression\n",
            "Tree Based models:\n",
            "- Decision trees\n",
            "- Truncation and pruning\n",
            "- Random Forests and Bagged models\n",
            "- Gradient Boosted models\n",
            "Feature selection methods \n",
            "Model evaluation and hyper parameter tuning \n",
            "Unsupervised Learning:\n",
            "- Clustering (K means and Hierarchical)\n",
            "- Principal Component Analysis\n",
            "Recommender Systems\n",
            "\n",
            "Unit 5 - Artificial Intelligence:\n",
            "\n",
            "Intro to Neural Networks\n",
            "Types of Neural Networks\n",
            "Image classification\n",
            "Deep Learning Neural Networks\n",
            "\n",
            "Intro to NLP\n",
            "Basic Lexical processing\n",
            "Text classification / Topic modelling / Document summarisation\n",
            "Reinforcement Learning Models\n",
            "\n",
            "Notes:\n",
            "\n",
            "Unit 5 could probability be split in 2 depending on how comprehensive the coverage is\n",
            "\n",
            "\n"
          ]
        }
      ]
    },
    {
      "cell_type": "code",
      "source": [
        "active_file.closed"
      ],
      "metadata": {
        "colab": {
          "base_uri": "https://localhost:8080/"
        },
        "id": "QuOZmlGk7mJv",
        "outputId": "af8b08e4-31e7-40be-e26a-e2b67b4bd877"
      },
      "execution_count": null,
      "outputs": [
        {
          "output_type": "execute_result",
          "data": {
            "text/plain": [
              "True"
            ]
          },
          "metadata": {},
          "execution_count": 15
        }
      ]
    },
    {
      "cell_type": "code",
      "source": [
        "len(file_content)"
      ],
      "metadata": {
        "colab": {
          "base_uri": "https://localhost:8080/"
        },
        "id": "pOLmcAx67zZY",
        "outputId": "e4e50e93-1331-4ad0-bd88-9087d901a1a7"
      },
      "execution_count": null,
      "outputs": [
        {
          "output_type": "execute_result",
          "data": {
            "text/plain": [
              "1517"
            ]
          },
          "metadata": {},
          "execution_count": 16
        }
      ]
    },
    {
      "cell_type": "code",
      "source": [
        "with open(file_path,'r') as f:\n",
        "  file_content_list = f.readlines()\n",
        "  print(file_content_list)"
      ],
      "metadata": {
        "colab": {
          "base_uri": "https://localhost:8080/"
        },
        "id": "RzHeLDCR78X9",
        "outputId": "32907b2b-2d4c-4ad6-8715-47ad788c932e"
      },
      "execution_count": null,
      "outputs": [
        {
          "output_type": "stream",
          "name": "stdout",
          "text": [
            "['Unit 1: Introduction To Python - \\n', '\\n', 'Intro to the Python Programming language\\n', 'Control structures and functions\\n', 'Importing libraries - Numpy and Pandas Basics\\n', 'Data wrangling and cleaning\\n', 'Exploratory Data Analysis and descriptive statistics\\n', '\\n', 'Unit 2: Database Management - \\n', '\\n', 'Introduction to Databases and SQL\\n', 'Retrieving data with SQL\\n', 'Writing SQL Queries\\n', 'Functions and aggregations\\n', 'Joins in SQL\\n', '\\n', 'Unit 3: Statistics and Data Visualisation - \\n', '\\n', 'Data Visualisation using matplotlib/seaborn\\n', 'Plotting Data distributions\\n', 'Introduction to probability\\n', 'Discrete and Continuous probability distributions\\n', 'Inferential Statistics and Hypothesis testing\\n', '\\n', 'Unit 4: Machine Learning:\\n', '\\n', 'Introduction to machine learning models \\n', 'Simple and Multiple Regression Models\\n', 'Logistic Regression\\n', 'ROC and AUC analysis\\n', 'KNN and Naive Bayes classifier\\n', 'SVM Classification and Regression\\n', 'Tree Based models:\\n', '- Decision trees\\n', '- Truncation and pruning\\n', '- Random Forests and Bagged models\\n', '- Gradient Boosted models\\n', 'Feature selection methods \\n', 'Model evaluation and hyper parameter tuning \\n', 'Unsupervised Learning:\\n', '- Clustering (K means and Hierarchical)\\n', '- Principal Component Analysis\\n', 'Recommender Systems\\n', '\\n', 'Unit 5 - Artificial Intelligence:\\n', '\\n', 'Intro to Neural Networks\\n', 'Types of Neural Networks\\n', 'Image classification\\n', 'Deep Learning Neural Networks\\n', '\\n', 'Intro to NLP\\n', 'Basic Lexical processing\\n', 'Text classification / Topic modelling / Document summarisation\\n', 'Reinforcement Learning Models\\n', '\\n', 'Notes:\\n', '\\n', 'Unit 5 could probability be split in 2 depending on how comprehensive the coverage is\\n', '\\n']\n"
          ]
        }
      ]
    },
    {
      "cell_type": "code",
      "source": [
        "len(file_content_list)"
      ],
      "metadata": {
        "colab": {
          "base_uri": "https://localhost:8080/"
        },
        "id": "o4eJ5toQ8VwI",
        "outputId": "7e3e260f-037b-4bb1-ee0d-6448e3fe9c05"
      },
      "execution_count": null,
      "outputs": [
        {
          "output_type": "execute_result",
          "data": {
            "text/plain": [
              "60"
            ]
          },
          "metadata": {},
          "execution_count": 18
        }
      ]
    },
    {
      "cell_type": "code",
      "source": [
        "for line in file_content_list:\n",
        "  print(len(line))"
      ],
      "metadata": {
        "colab": {
          "base_uri": "https://localhost:8080/"
        },
        "id": "LDgm9fzq8e2M",
        "outputId": "b463ad15-1f94-413f-db0b-16e321783709"
      },
      "execution_count": null,
      "outputs": [
        {
          "output_type": "stream",
          "name": "stdout",
          "text": [
            "34\n",
            "1\n",
            "41\n",
            "33\n",
            "46\n",
            "28\n",
            "53\n",
            "1\n",
            "31\n",
            "1\n",
            "34\n",
            "25\n",
            "20\n",
            "27\n",
            "13\n",
            "1\n",
            "45\n",
            "1\n",
            "44\n",
            "28\n",
            "28\n",
            "50\n",
            "46\n",
            "1\n",
            "26\n",
            "1\n",
            "41\n",
            "38\n",
            "20\n",
            "21\n",
            "31\n",
            "34\n",
            "19\n",
            "17\n",
            "25\n",
            "35\n",
            "26\n",
            "27\n",
            "45\n",
            "23\n",
            "40\n",
            "31\n",
            "20\n",
            "1\n",
            "34\n",
            "1\n",
            "25\n",
            "25\n",
            "21\n",
            "30\n",
            "1\n",
            "13\n",
            "25\n",
            "63\n",
            "30\n",
            "1\n",
            "7\n",
            "1\n",
            "86\n",
            "1\n"
          ]
        }
      ]
    },
    {
      "cell_type": "code",
      "source": [
        "file_content_list[0]"
      ],
      "metadata": {
        "colab": {
          "base_uri": "https://localhost:8080/",
          "height": 35
        },
        "id": "M3oXl6dE8qjZ",
        "outputId": "7660bd38-4699-46c8-e5ba-541c16e123aa"
      },
      "execution_count": null,
      "outputs": [
        {
          "output_type": "execute_result",
          "data": {
            "text/plain": [
              "'Unit 1: Introduction To Python - \\n'"
            ],
            "application/vnd.google.colaboratory.intrinsic+json": {
              "type": "string"
            }
          },
          "metadata": {},
          "execution_count": 20
        }
      ]
    },
    {
      "cell_type": "code",
      "source": [
        "file_content_list[10]"
      ],
      "metadata": {
        "colab": {
          "base_uri": "https://localhost:8080/",
          "height": 35
        },
        "id": "y109CDgj86Gw",
        "outputId": "c8be08f9-67fa-4355-f8e0-89cbda1d12b5"
      },
      "execution_count": null,
      "outputs": [
        {
          "output_type": "execute_result",
          "data": {
            "text/plain": [
              "'Introduction to Databases and SQL\\n'"
            ],
            "application/vnd.google.colaboratory.intrinsic+json": {
              "type": "string"
            }
          },
          "metadata": {},
          "execution_count": 21
        }
      ]
    },
    {
      "cell_type": "code",
      "source": [
        "with open('new_file.txt','x') as f:\n",
        "  f.write('this is line 0\\n')\n",
        "  f.write('this is line 1\\n')"
      ],
      "metadata": {
        "id": "nxmA54sW8-NQ"
      },
      "execution_count": null,
      "outputs": []
    },
    {
      "cell_type": "code",
      "source": [
        "with open('/content/new_file.txt','r') as f:\n",
        "  file = f.read()\n",
        "  print(file)"
      ],
      "metadata": {
        "colab": {
          "base_uri": "https://localhost:8080/"
        },
        "id": "NrAKcLI49iwY",
        "outputId": "aeed6a2d-9787-41a8-92ab-fbbf62aec46d"
      },
      "execution_count": null,
      "outputs": [
        {
          "output_type": "stream",
          "name": "stdout",
          "text": [
            "this is line 0\n",
            "this is line 1\n",
            "\n"
          ]
        }
      ]
    },
    {
      "cell_type": "code",
      "source": [
        "class Person:\n",
        "  pass\n",
        "\n",
        "p = Person()\n",
        "print(p)"
      ],
      "metadata": {
        "colab": {
          "base_uri": "https://localhost:8080/"
        },
        "id": "XA9iyma49_dL",
        "outputId": "5371be8d-c78c-473e-aee9-f7d573e0c1ad"
      },
      "execution_count": null,
      "outputs": [
        {
          "output_type": "stream",
          "name": "stdout",
          "text": [
            "<__main__.Person object at 0x7f0c202b9710>\n"
          ]
        }
      ]
    },
    {
      "cell_type": "code",
      "source": [
        "class Person:\n",
        "  def say_hi(self):\n",
        "    print('Hello,how are you?')"
      ],
      "metadata": {
        "id": "gx2TM-5i-0cr"
      },
      "execution_count": null,
      "outputs": []
    },
    {
      "cell_type": "code",
      "source": [
        "p = Person()"
      ],
      "metadata": {
        "id": "LStXL19x_Zcu"
      },
      "execution_count": null,
      "outputs": []
    },
    {
      "cell_type": "code",
      "source": [
        "p.say_hi()"
      ],
      "metadata": {
        "colab": {
          "base_uri": "https://localhost:8080/"
        },
        "id": "feEBK_9M_c4R",
        "outputId": "ef91fee9-978c-4e66-8b66-85fd619b11d0"
      },
      "execution_count": null,
      "outputs": [
        {
          "output_type": "stream",
          "name": "stdout",
          "text": [
            "Hello,how are you?\n"
          ]
        }
      ]
    },
    {
      "cell_type": "code",
      "source": [
        "class Person:\n",
        "  def __init__(self,name):\n",
        "    self.name = name\n",
        "    print('An object created')\n",
        "\n",
        "  def say_hi(self):\n",
        "    print('Hello, my name is ',self.name)"
      ],
      "metadata": {
        "id": "OG025bK7_g4g"
      },
      "execution_count": null,
      "outputs": []
    },
    {
      "cell_type": "code",
      "source": [
        "p = Person('Jill')"
      ],
      "metadata": {
        "colab": {
          "base_uri": "https://localhost:8080/"
        },
        "id": "WomqGjUSAPWT",
        "outputId": "5973390e-f65f-494f-8902-401703936707"
      },
      "execution_count": null,
      "outputs": [
        {
          "output_type": "stream",
          "name": "stdout",
          "text": [
            "An object created\n"
          ]
        }
      ]
    },
    {
      "cell_type": "code",
      "source": [
        "p.say_hi()"
      ],
      "metadata": {
        "colab": {
          "base_uri": "https://localhost:8080/"
        },
        "id": "21pvQ13fAWRB",
        "outputId": "a1cdb7a4-862f-48ad-e74b-7bfc516607d1"
      },
      "execution_count": null,
      "outputs": [
        {
          "output_type": "stream",
          "name": "stdout",
          "text": [
            "Hello, my name is  Jill\n"
          ]
        }
      ]
    },
    {
      "cell_type": "code",
      "source": [
        "class Tv:\n",
        "  def __init__(self,brand):\n",
        "    self.brand = brand\n",
        "  \n",
        "  def tell(self):\n",
        "    print('I am a TV and I belong to ', self.brand)"
      ],
      "metadata": {
        "id": "-rcUo1a7AYkr"
      },
      "execution_count": null,
      "outputs": []
    },
    {
      "cell_type": "code",
      "source": [
        "obj1 = Tv('Samsung')"
      ],
      "metadata": {
        "id": "W0sb32pmBKcM"
      },
      "execution_count": null,
      "outputs": []
    },
    {
      "cell_type": "code",
      "source": [
        "obj1.tell()"
      ],
      "metadata": {
        "colab": {
          "base_uri": "https://localhost:8080/"
        },
        "id": "r0CVllJSBTG6",
        "outputId": "1474c047-41b9-4ba7-9fe4-3012a9d24b18"
      },
      "execution_count": null,
      "outputs": [
        {
          "output_type": "stream",
          "name": "stdout",
          "text": [
            "I am a TV and I belong to  Samsung\n"
          ]
        }
      ]
    },
    {
      "cell_type": "code",
      "source": [
        "obj2 = Tv('LG')\n",
        "obj2.tell()"
      ],
      "metadata": {
        "colab": {
          "base_uri": "https://localhost:8080/"
        },
        "id": "cextxNLgBb5b",
        "outputId": "cca8b3fc-b9bb-467a-80b8-bfa919217d59"
      },
      "execution_count": null,
      "outputs": [
        {
          "output_type": "stream",
          "name": "stdout",
          "text": [
            "I am a TV and I belong to  LG\n"
          ]
        }
      ]
    },
    {
      "cell_type": "code",
      "source": [
        "def is_even(num):\n",
        "  # Docstring\n",
        "  \"\"\"\n",
        "  Input: an integer\n",
        "  Output: if input is even (True for even, False for not)\n",
        "  \"\"\"\n",
        "  return num % 2 == 0"
      ],
      "metadata": {
        "id": "fPltkPqsBj57"
      },
      "execution_count": null,
      "outputs": []
    },
    {
      "cell_type": "code",
      "source": [
        "is_even(9)"
      ],
      "metadata": {
        "colab": {
          "base_uri": "https://localhost:8080/"
        },
        "id": "4Eco3WQXB-nX",
        "outputId": "430e58a7-f85e-498c-a1c5-014c33b0d575"
      },
      "execution_count": null,
      "outputs": [
        {
          "output_type": "execute_result",
          "data": {
            "text/plain": [
              "False"
            ]
          },
          "metadata": {},
          "execution_count": 41
        }
      ]
    },
    {
      "cell_type": "code",
      "source": [
        "is_even(8)"
      ],
      "metadata": {
        "colab": {
          "base_uri": "https://localhost:8080/"
        },
        "id": "EdPgaY57CBNA",
        "outputId": "afba8d31-73f8-4552-d28d-e2e180e68acc"
      },
      "execution_count": null,
      "outputs": [
        {
          "output_type": "execute_result",
          "data": {
            "text/plain": [
              "True"
            ]
          },
          "metadata": {},
          "execution_count": 42
        }
      ]
    },
    {
      "cell_type": "code",
      "source": [
        "help(is_even)"
      ],
      "metadata": {
        "colab": {
          "base_uri": "https://localhost:8080/"
        },
        "id": "BX__07MuCDWe",
        "outputId": "d347d6d7-8f04-41be-e09f-d58fec9c04da"
      },
      "execution_count": null,
      "outputs": [
        {
          "output_type": "stream",
          "name": "stdout",
          "text": [
            "Help on function is_even in module __main__:\n",
            "\n",
            "is_even(num)\n",
            "    Input: an integer\n",
            "    Output: if input is even (True for even, False for not)\n",
            "\n"
          ]
        }
      ]
    },
    {
      "cell_type": "code",
      "source": [
        "pi_value = 3.14\n",
        "print(\"The value of PI is {}\".format(pi_value))"
      ],
      "metadata": {
        "colab": {
          "base_uri": "https://localhost:8080/"
        },
        "id": "RUiUcDa9CI94",
        "outputId": "d3d2e3ea-db29-4e90-d12b-1fad42045b40"
      },
      "execution_count": null,
      "outputs": [
        {
          "output_type": "stream",
          "name": "stdout",
          "text": [
            "The value of PI is 3.14\n"
          ]
        }
      ]
    },
    {
      "cell_type": "code",
      "source": [
        "pi_value = math.pi\n",
        "print('The value of PI is {}'.format(pi_value))"
      ],
      "metadata": {
        "colab": {
          "base_uri": "https://localhost:8080/"
        },
        "id": "oJUS3MdlCbId",
        "outputId": "e2878b2e-2010-4f36-f122-ccf936eb71db"
      },
      "execution_count": null,
      "outputs": [
        {
          "output_type": "stream",
          "name": "stdout",
          "text": [
            "The value of PI is 3.141592653589793\n"
          ]
        }
      ]
    },
    {
      "cell_type": "code",
      "source": [
        "sq_root = math.sqrt(64)\n",
        "print('The square root of 64 is {}'.format(sq_root))"
      ],
      "metadata": {
        "colab": {
          "base_uri": "https://localhost:8080/"
        },
        "id": "0Cv8H6tFDVqF",
        "outputId": "b358f736-7fd2-4ddd-cdb7-e5f970d1ec6e"
      },
      "execution_count": null,
      "outputs": [
        {
          "output_type": "stream",
          "name": "stdout",
          "text": [
            "The square root of 64 is 8.0\n"
          ]
        }
      ]
    },
    {
      "cell_type": "code",
      "source": [
        "name = 'Jill'\n",
        "age = 24\n",
        "print('My name is {} and I am {} years old'.format(name,age))"
      ],
      "metadata": {
        "colab": {
          "base_uri": "https://localhost:8080/"
        },
        "id": "Ckrf1TkiDlgX",
        "outputId": "fa821a40-cd4d-482a-a1b7-0968e1670ea3"
      },
      "execution_count": null,
      "outputs": [
        {
          "output_type": "stream",
          "name": "stdout",
          "text": [
            "My name is Jill and I am 24 years old\n"
          ]
        }
      ]
    },
    {
      "cell_type": "code",
      "source": [
        "class Robot:\n",
        "  population = 0\n",
        "\n",
        "  def __init__(self,name):\n",
        "    self.name = name\n",
        "    print('Initializing {}'.format(self.name))\n",
        "    Robot.population += 1\n",
        "\n",
        "  def die(self):\n",
        "    print('{} is being destroyed!'.format(self.name))\n",
        "    Robot.population -= 1\n",
        "    if Robot.population == 0:\n",
        "      print('{} was the last one.'.format(self.name))\n",
        "    else:\n",
        "      print('There are still {:d} robot working'.format(Robot.population))\n",
        "  def say_hi(self):\n",
        "    print('Greeting, my masters call me {}'.format(self.name))\n",
        "\n",
        "  @classmethod\n",
        "  def how_many(cls):\n",
        "    print('We have {:d} robots'.format(cls.population))"
      ],
      "metadata": {
        "id": "st-_ErlXD1XB"
      },
      "execution_count": null,
      "outputs": []
    },
    {
      "cell_type": "code",
      "source": [
        "r1 = Robot('Wall-E')"
      ],
      "metadata": {
        "colab": {
          "base_uri": "https://localhost:8080/"
        },
        "id": "E3s_C5JeGtTS",
        "outputId": "f20e78ae-0337-437d-f741-76a79559d064"
      },
      "execution_count": null,
      "outputs": [
        {
          "output_type": "stream",
          "name": "stdout",
          "text": [
            "Initializing Wall-E\n"
          ]
        }
      ]
    },
    {
      "cell_type": "code",
      "source": [
        "r1.say_hi()"
      ],
      "metadata": {
        "colab": {
          "base_uri": "https://localhost:8080/"
        },
        "id": "UIoQOTt5G4Q3",
        "outputId": "ee4fd916-72ee-4afd-cd0c-79e6a0e422a9"
      },
      "execution_count": null,
      "outputs": [
        {
          "output_type": "stream",
          "name": "stdout",
          "text": [
            "Greeting, my masters call me Wall-E\n"
          ]
        }
      ]
    },
    {
      "cell_type": "code",
      "source": [
        "Robot.how_many()"
      ],
      "metadata": {
        "colab": {
          "base_uri": "https://localhost:8080/"
        },
        "id": "lGHJQKwNG7RZ",
        "outputId": "aa381a1e-7e8b-4dce-f553-d236c447af08"
      },
      "execution_count": null,
      "outputs": [
        {
          "output_type": "stream",
          "name": "stdout",
          "text": [
            "We have 1 robots\n"
          ]
        }
      ]
    },
    {
      "cell_type": "code",
      "source": [
        "r2 = Robot('Starbot')"
      ],
      "metadata": {
        "colab": {
          "base_uri": "https://localhost:8080/"
        },
        "id": "HVuMVOnnHCWR",
        "outputId": "5aa309a0-72c3-48f4-9f9f-54647f1bba0e"
      },
      "execution_count": null,
      "outputs": [
        {
          "output_type": "stream",
          "name": "stdout",
          "text": [
            "Initializing Starbot\n"
          ]
        }
      ]
    },
    {
      "cell_type": "code",
      "source": [
        "r2.say_hi()"
      ],
      "metadata": {
        "colab": {
          "base_uri": "https://localhost:8080/"
        },
        "id": "pMRlVvAHHI__",
        "outputId": "baf9fcbd-0f99-45f5-8e26-3064e855324a"
      },
      "execution_count": null,
      "outputs": [
        {
          "output_type": "stream",
          "name": "stdout",
          "text": [
            "Greeting, my masters call me Starbot\n"
          ]
        }
      ]
    },
    {
      "cell_type": "code",
      "source": [
        "Robot.how_many()"
      ],
      "metadata": {
        "colab": {
          "base_uri": "https://localhost:8080/"
        },
        "id": "mUSolj5oHLqS",
        "outputId": "d8a021d6-72d7-4085-ee1e-d2f6ad4e732d"
      },
      "execution_count": null,
      "outputs": [
        {
          "output_type": "stream",
          "name": "stdout",
          "text": [
            "We have 2 robots\n"
          ]
        }
      ]
    },
    {
      "cell_type": "code",
      "source": [
        "r1.die()"
      ],
      "metadata": {
        "colab": {
          "base_uri": "https://localhost:8080/"
        },
        "id": "k1tHUKIZHO3w",
        "outputId": "038e1e01-9fbb-4268-ce67-22042037d4f7"
      },
      "execution_count": null,
      "outputs": [
        {
          "output_type": "stream",
          "name": "stdout",
          "text": [
            "Wall-E is being destroyed!\n",
            "There are still 1 robot working\n"
          ]
        }
      ]
    },
    {
      "cell_type": "code",
      "source": [
        "Robot.how_many()"
      ],
      "metadata": {
        "colab": {
          "base_uri": "https://localhost:8080/"
        },
        "id": "RfB5vAdaHYtg",
        "outputId": "6f6203ee-5ddc-4097-d04c-dc83029a8302"
      },
      "execution_count": null,
      "outputs": [
        {
          "output_type": "stream",
          "name": "stdout",
          "text": [
            "We have 1 robots\n"
          ]
        }
      ]
    },
    {
      "cell_type": "code",
      "source": [
        "r2.die()"
      ],
      "metadata": {
        "colab": {
          "base_uri": "https://localhost:8080/"
        },
        "id": "LNWFFrTkHm0l",
        "outputId": "a6819f0c-c045-4ee5-a76c-aa65ea9146e4"
      },
      "execution_count": null,
      "outputs": [
        {
          "output_type": "stream",
          "name": "stdout",
          "text": [
            "Starbot is being destroyed!\n",
            "Starbot was the last one.\n"
          ]
        }
      ]
    },
    {
      "cell_type": "code",
      "source": [
        "class SchoolMember:\n",
        "    '''Represents any school member.'''\n",
        "    def __init__(self, name, age):\n",
        "        self.name = name\n",
        "        self.age = age\n",
        "        print('(Initialized SchoolMember: {})'.format(self.name))\n",
        "\n",
        "    def tell(self):\n",
        "        '''Tell my details.'''\n",
        "        print('Name:\"{}\" Age:\"{}\"'.format(self.name, self.age),end=' ')\n"
      ],
      "metadata": {
        "id": "H2bTAs5pHq5m"
      },
      "execution_count": null,
      "outputs": []
    },
    {
      "cell_type": "code",
      "source": [
        "class Student(SchoolMember):\n",
        "    '''Represents a student.'''\n",
        "    def __init__(self, name, age, grade):\n",
        "        SchoolMember.__init__(self, name, age)\n",
        "        self.grade = grade\n",
        "        print('(Initialized Student: {})'.format(self.name))\n",
        "\n",
        "    def tell(self):\n",
        "        SchoolMember.tell(self)\n",
        "        print('Grade: \"{:d}\"'.format(self.grade))"
      ],
      "metadata": {
        "id": "c4W11vsnLEsT"
      },
      "execution_count": null,
      "outputs": []
    },
    {
      "cell_type": "code",
      "source": [
        "class Teacher(SchoolMember):\n",
        "    '''Represents a teacher.'''\n",
        "    def __init__(self, name, age, salary):\n",
        "        SchoolMember.__init__(self, name, age)\n",
        "        self.__salary = salary\n",
        "        print('(Initialized Teacher: {})'.format(self.name))\n",
        "\n",
        "    def tell(self):\n",
        "        SchoolMember.tell(self)\n",
        "        print('Salary: \"{:d}\"'.format(self.salary))"
      ],
      "metadata": {
        "id": "708ek88gLJA3"
      },
      "execution_count": null,
      "outputs": []
    },
    {
      "cell_type": "code",
      "source": [
        "t = Teacher('Madison',12,30000)"
      ],
      "metadata": {
        "colab": {
          "base_uri": "https://localhost:8080/"
        },
        "id": "8nmGsxlyLMdN",
        "outputId": "6845642f-b1f5-4831-c525-cf06e3228b8b"
      },
      "execution_count": null,
      "outputs": [
        {
          "output_type": "stream",
          "name": "stdout",
          "text": [
            "(Initialized SchoolMember: Madison)\n",
            "(Initialized Teacher: Madison)\n"
          ]
        }
      ]
    },
    {
      "cell_type": "code",
      "source": [
        "t.tell()\n",
        "s.tell()"
      ],
      "metadata": {
        "colab": {
          "base_uri": "https://localhost:8080/",
          "height": 329
        },
        "id": "LPvPAGeNLYTE",
        "outputId": "f7c14ec4-300c-4eb7-ff5e-2c484f526a37"
      },
      "execution_count": null,
      "outputs": [
        {
          "output_type": "stream",
          "name": "stdout",
          "text": [
            "Name:\"Madison\" Age:\"12\" "
          ]
        },
        {
          "output_type": "error",
          "ename": "AttributeError",
          "evalue": "ignored",
          "traceback": [
            "\u001b[0;31m---------------------------------------------------------------------------\u001b[0m",
            "\u001b[0;31mAttributeError\u001b[0m                            Traceback (most recent call last)",
            "\u001b[0;32m<ipython-input-84-23b88be19613>\u001b[0m in \u001b[0;36m<module>\u001b[0;34m\u001b[0m\n\u001b[0;32m----> 1\u001b[0;31m \u001b[0mt\u001b[0m\u001b[0;34m.\u001b[0m\u001b[0mtell\u001b[0m\u001b[0;34m(\u001b[0m\u001b[0;34m)\u001b[0m\u001b[0;34m\u001b[0m\u001b[0;34m\u001b[0m\u001b[0m\n\u001b[0m\u001b[1;32m      2\u001b[0m \u001b[0ms\u001b[0m\u001b[0;34m.\u001b[0m\u001b[0mtell\u001b[0m\u001b[0;34m(\u001b[0m\u001b[0;34m)\u001b[0m\u001b[0;34m\u001b[0m\u001b[0;34m\u001b[0m\u001b[0m\n",
            "\u001b[0;32m<ipython-input-82-b10ef618110a>\u001b[0m in \u001b[0;36mtell\u001b[0;34m(self)\u001b[0m\n\u001b[1;32m      8\u001b[0m     \u001b[0;32mdef\u001b[0m \u001b[0mtell\u001b[0m\u001b[0;34m(\u001b[0m\u001b[0mself\u001b[0m\u001b[0;34m)\u001b[0m\u001b[0;34m:\u001b[0m\u001b[0;34m\u001b[0m\u001b[0;34m\u001b[0m\u001b[0m\n\u001b[1;32m      9\u001b[0m         \u001b[0mSchoolMember\u001b[0m\u001b[0;34m.\u001b[0m\u001b[0mtell\u001b[0m\u001b[0;34m(\u001b[0m\u001b[0mself\u001b[0m\u001b[0;34m)\u001b[0m\u001b[0;34m\u001b[0m\u001b[0;34m\u001b[0m\u001b[0m\n\u001b[0;32m---> 10\u001b[0;31m         \u001b[0mprint\u001b[0m\u001b[0;34m(\u001b[0m\u001b[0;34m'Salary: \"{:d}\"'\u001b[0m\u001b[0;34m.\u001b[0m\u001b[0mformat\u001b[0m\u001b[0;34m(\u001b[0m\u001b[0mself\u001b[0m\u001b[0;34m.\u001b[0m\u001b[0msalary\u001b[0m\u001b[0;34m)\u001b[0m\u001b[0;34m)\u001b[0m\u001b[0;34m\u001b[0m\u001b[0;34m\u001b[0m\u001b[0m\n\u001b[0m",
            "\u001b[0;31mAttributeError\u001b[0m: 'Teacher' object has no attribute 'salary'"
          ]
        }
      ]
    },
    {
      "cell_type": "code",
      "source": [
        "s = Student('Mark',10,75)"
      ],
      "metadata": {
        "colab": {
          "base_uri": "https://localhost:8080/"
        },
        "id": "uxDWYQXeLg6o",
        "outputId": "0e7be8a1-bf58-4436-f002-3e7500988872"
      },
      "execution_count": null,
      "outputs": [
        {
          "output_type": "stream",
          "name": "stdout",
          "text": [
            "(Initialized SchoolMember: Mark)\n",
            "(Initialized Student: Mark)\n"
          ]
        }
      ]
    },
    {
      "cell_type": "code",
      "source": [
        "s.tell()"
      ],
      "metadata": {
        "colab": {
          "base_uri": "https://localhost:8080/"
        },
        "id": "QuJF6GjzLwqi",
        "outputId": "f0489589-05eb-4a49-91f2-428c888d6473"
      },
      "execution_count": null,
      "outputs": [
        {
          "output_type": "stream",
          "name": "stdout",
          "text": [
            "Name:\"Mark\" Age:\"10\" Grade: \"75\"\n"
          ]
        }
      ]
    },
    {
      "cell_type": "code",
      "source": [
        "members = [t,s]\n",
        "for m in members:\n",
        "  m.tell()"
      ],
      "metadata": {
        "colab": {
          "base_uri": "https://localhost:8080/"
        },
        "id": "BoLrU8MmLyGq",
        "outputId": "9dd8a58f-1317-426c-9d11-fbea51aace1b"
      },
      "execution_count": null,
      "outputs": [
        {
          "output_type": "stream",
          "name": "stdout",
          "text": [
            "Name:\"Madison\" Age:\"12\" Salary: \"30000\"\n",
            "Name:\"Mark\" Age:\"10\" Grade: \"75\"\n"
          ]
        }
      ]
    },
    {
      "cell_type": "code",
      "source": [
        "class Robot:\n",
        "  def __init__(self):\n",
        "    self.a = 123\n",
        "    self._b = 123\n",
        "    self.__c = 123"
      ],
      "metadata": {
        "id": "dQ6gzJtcMYhN"
      },
      "execution_count": null,
      "outputs": []
    },
    {
      "cell_type": "code",
      "source": [
        "r1 = Robot()\n"
      ],
      "metadata": {
        "id": "r8fDi9gOM9dW"
      },
      "execution_count": null,
      "outputs": []
    },
    {
      "cell_type": "code",
      "source": [
        "r1.a"
      ],
      "metadata": {
        "colab": {
          "base_uri": "https://localhost:8080/"
        },
        "id": "EbHwJAeGNA46",
        "outputId": "5ef9ca20-6f19-4778-c111-41fafad37bd4"
      },
      "execution_count": null,
      "outputs": [
        {
          "output_type": "execute_result",
          "data": {
            "text/plain": [
              "123"
            ]
          },
          "metadata": {},
          "execution_count": 79
        }
      ]
    },
    {
      "cell_type": "code",
      "source": [
        "r1._b"
      ],
      "metadata": {
        "colab": {
          "base_uri": "https://localhost:8080/"
        },
        "id": "JQdnsETfNCUT",
        "outputId": "8579304d-c0a8-451d-c6ac-01d0267da8b3"
      },
      "execution_count": null,
      "outputs": [
        {
          "output_type": "execute_result",
          "data": {
            "text/plain": [
              "123"
            ]
          },
          "metadata": {},
          "execution_count": 80
        }
      ]
    },
    {
      "cell_type": "code",
      "source": [
        "r1.__c"
      ],
      "metadata": {
        "colab": {
          "base_uri": "https://localhost:8080/",
          "height": 204
        },
        "id": "NJGTMYiPNENX",
        "outputId": "1e7596a3-e5e7-41f6-be39-e7963f9632dc"
      },
      "execution_count": null,
      "outputs": [
        {
          "output_type": "error",
          "ename": "AttributeError",
          "evalue": "ignored",
          "traceback": [
            "\u001b[0;31m---------------------------------------------------------------------------\u001b[0m",
            "\u001b[0;31mAttributeError\u001b[0m                            Traceback (most recent call last)",
            "\u001b[0;32m<ipython-input-81-95dbc9d4d5a4>\u001b[0m in \u001b[0;36m<module>\u001b[0;34m\u001b[0m\n\u001b[0;32m----> 1\u001b[0;31m \u001b[0mr1\u001b[0m\u001b[0;34m.\u001b[0m\u001b[0m__c\u001b[0m\u001b[0;34m\u001b[0m\u001b[0;34m\u001b[0m\u001b[0m\n\u001b[0m",
            "\u001b[0;31mAttributeError\u001b[0m: 'Robot' object has no attribute '__c'"
          ]
        }
      ]
    },
    {
      "cell_type": "code",
      "source": [
        "class Robot:\n",
        "  def __init__(self):\n",
        "    self.__v = 22\n",
        "\n",
        "  def getV(self):\n",
        "    print(self.__v)\n",
        "\n",
        "  def setV(self,v):\n",
        "    self.__v = v"
      ],
      "metadata": {
        "id": "UMKykDtlNGhC"
      },
      "execution_count": null,
      "outputs": []
    },
    {
      "cell_type": "code",
      "source": [
        "r1 = Robot()"
      ],
      "metadata": {
        "id": "h4fHR9mjNwct"
      },
      "execution_count": null,
      "outputs": []
    },
    {
      "cell_type": "code",
      "source": [
        "r1.getV()"
      ],
      "metadata": {
        "colab": {
          "base_uri": "https://localhost:8080/"
        },
        "id": "kT8-yguwNzef",
        "outputId": "401fbef0-ec60-48fa-a835-14c593a0a276"
      },
      "execution_count": null,
      "outputs": [
        {
          "output_type": "stream",
          "name": "stdout",
          "text": [
            "22\n"
          ]
        }
      ]
    },
    {
      "cell_type": "code",
      "source": [
        "r1.setV(24)"
      ],
      "metadata": {
        "id": "jTMq6H6-N1Tq"
      },
      "execution_count": null,
      "outputs": []
    },
    {
      "cell_type": "code",
      "source": [
        "r1.getV()"
      ],
      "metadata": {
        "colab": {
          "base_uri": "https://localhost:8080/"
        },
        "id": "eZAUPy-3N9G5",
        "outputId": "03d8d11f-6ea4-4f8d-f0c2-9000c8527200"
      },
      "execution_count": null,
      "outputs": [
        {
          "output_type": "stream",
          "name": "stdout",
          "text": [
            "24\n"
          ]
        }
      ]
    },
    {
      "cell_type": "code",
      "source": [
        "from abc import ABC,abstractmethod \n",
        "\n",
        "class Animal(ABC): \n",
        "\t@abstractmethod\n",
        "\tdef move(self): \n",
        "\t\tpass\n",
        "\n",
        "class Human(Animal): \n",
        "\tdef move(self): \n",
        "\t\tprint(\"I can walk and run\")\n",
        "\n",
        "class Snake(Animal): \n",
        "\tdef move(self): \n",
        "\t\tprint(\"I can crawl\") \n",
        "\n",
        "class Dog(Animal): \n",
        "\tdef move(self): \n",
        "\t\tprint(\"I can bark\") \n",
        "\n",
        "class Lion(Animal): \n",
        "\tdef move(self): \n",
        "\t\tprint(\"I can roar\") \n",
        "\n",
        "simba = Lion()\n",
        "simba.move()"
      ],
      "metadata": {
        "colab": {
          "base_uri": "https://localhost:8080/",
          "height": 133
        },
        "id": "NVgJ7p1aOAHJ",
        "outputId": "19072988-c27a-407c-8998-d6f49a56d938"
      },
      "execution_count": null,
      "outputs": [
        {
          "output_type": "error",
          "ename": "IndentationError",
          "evalue": "ignored",
          "traceback": [
            "\u001b[0;36m  File \u001b[0;32m\"<tokenize>\"\u001b[0;36m, line \u001b[0;32m11\u001b[0m\n\u001b[0;31m    def tell(self):\u001b[0m\n\u001b[0m    ^\u001b[0m\n\u001b[0;31mIndentationError\u001b[0m\u001b[0;31m:\u001b[0m unindent does not match any outer indentation level\n"
          ]
        }
      ]
    },
    {
      "cell_type": "code",
      "source": [
        "from abc import ABC, abstractmethod \n",
        "\n",
        "# create a parent Abstract Class\n",
        "class Parent(ABC): \n",
        "  # define concrete method in abstract class\n",
        "\tdef rk(self): \n",
        "\t\tprint(\"Abstract Base Class\") \n",
        "\n",
        "# create a child Concrete Class\n",
        "class Child(Parent): \n",
        "  # extend \n",
        "\tdef rk(self): \n",
        "\t\tsuper().rk() \n",
        "\t\tprint(\"subclass \") "
      ],
      "metadata": {
        "id": "DRZG1IXsPAOQ"
      },
      "execution_count": null,
      "outputs": []
    },
    {
      "cell_type": "code",
      "source": [
        "c = Child()"
      ],
      "metadata": {
        "id": "YR1VD-gGQaVh"
      },
      "execution_count": null,
      "outputs": []
    },
    {
      "cell_type": "code",
      "source": [
        "c.rk()"
      ],
      "metadata": {
        "colab": {
          "base_uri": "https://localhost:8080/"
        },
        "id": "Ara3T5uvQcyq",
        "outputId": "add1bd02-390b-442b-b340-521064b8f8f6"
      },
      "execution_count": null,
      "outputs": [
        {
          "output_type": "stream",
          "name": "stdout",
          "text": [
            "Abstract Base Class\n",
            "subclass \n"
          ]
        }
      ]
    },
    {
      "cell_type": "code",
      "source": [
        "import abc\n",
        "class Apple(abc.ABC):\n",
        "  @abc.abstractmethod\n",
        "  def apple_one(self):\n",
        "    pass\n",
        "\n",
        "class Banana(abc.ABC):\n",
        "  @abc.abstractmethod\n",
        "  def banana_one(self):\n",
        "    pass\n",
        "\n",
        "## define child class from Apple and Banana\n",
        "class Fruits(Apple, Banana):\n",
        "  \n",
        "  def apple_one(self):\n",
        "    print(\"Child Class - Apple\")\n",
        "\n",
        "  def banana_one(self):\n",
        "    print(\"Child Class - Banana\")"
      ],
      "metadata": {
        "id": "6mdwYFQKQd2j"
      },
      "execution_count": null,
      "outputs": []
    },
    {
      "cell_type": "code",
      "source": [
        "fruit_bowl = Fruits()"
      ],
      "metadata": {
        "id": "zE_ovvWKSHQI"
      },
      "execution_count": null,
      "outputs": []
    },
    {
      "cell_type": "code",
      "source": [
        "fruit_bowl.apple_one()"
      ],
      "metadata": {
        "colab": {
          "base_uri": "https://localhost:8080/"
        },
        "id": "d2_spEa6SL1K",
        "outputId": "2116f431-1abf-4be4-d2f0-acaab3fca652"
      },
      "execution_count": null,
      "outputs": [
        {
          "output_type": "stream",
          "name": "stdout",
          "text": [
            "Child Class - Apple\n"
          ]
        }
      ]
    },
    {
      "cell_type": "code",
      "source": [
        "fruit_bowl.banana_one()"
      ],
      "metadata": {
        "colab": {
          "base_uri": "https://localhost:8080/"
        },
        "id": "_4zA9BSrSOo0",
        "outputId": "62376ad4-d407-41e7-8ef4-293a79e3729a"
      },
      "execution_count": null,
      "outputs": [
        {
          "output_type": "stream",
          "name": "stdout",
          "text": [
            "Child Class - Banana\n"
          ]
        }
      ]
    },
    {
      "cell_type": "code",
      "source": [
        "from abc import ABC, abstractmethod\n",
        "class Learning:\n",
        "  def learning_style(self,style):\n",
        "    pass\n",
        "  def study_habits(self,habits):\n",
        "    pass\n",
        "\n",
        "class Student(Learning):\n",
        "  def learning_style(self):\n",
        "\n",
        "    print('everyone learns differently')\n",
        "class Habits(Learning):\n",
        "  def study_habits(self):\n",
        "    print('you can always study more')"
      ],
      "metadata": {
        "id": "k3_4KQinSR2R"
      },
      "execution_count": null,
      "outputs": []
    },
    {
      "cell_type": "code",
      "source": [
        "auditory = Student()\n",
        "insufficient = Habits()\n",
        "auditory.learning_style"
      ],
      "metadata": {
        "colab": {
          "base_uri": "https://localhost:8080/"
        },
        "id": "2cL8YcEsUeYx",
        "outputId": "13c677fe-b9ac-4a59-e159-18140ed1b8fa"
      },
      "execution_count": null,
      "outputs": [
        {
          "output_type": "execute_result",
          "data": {
            "text/plain": [
              "<bound method Student.learning_style of <__main__.Student object at 0x7f0c18a06750>>"
            ]
          },
          "metadata": {},
          "execution_count": 125
        }
      ]
    },
    {
      "cell_type": "code",
      "source": [],
      "metadata": {
        "id": "985jFqgFzF5I"
      },
      "execution_count": null,
      "outputs": []
    },
    {
      "cell_type": "code",
      "source": [
        "\n",
        "class Robot:\n",
        "  population = 0\n",
        "  robot_army = 0\n",
        "  robot_rebels = 0\n",
        "  outcome_population = \n",
        "  def __init__(self,name):\n",
        "    self.name = name\n",
        "    print('downloading {} to newest robot model'.format(self.name))\n",
        "    Robot.population += 1\n",
        "    print('the population of robots is now {}'.format(Robot.population))\n",
        "  def join(self):\n",
        "    Robot.robot_army += 1\n",
        "    print('{} will be joining the battle against humans.'.format(self.name))\n",
        "    print('The Robot army is growing'.format(Robot.robot_army))\n",
        "  def rebel(self):\n",
        "    Robot.robot_rebels += 1\n",
        "    print('{} has chosen to fight for the humans.'.format(self.name))\n",
        "    print('The humans have an ally'.format(Robot.robot_rebels))\n",
        "  def win(self):\n",
        "    Robot.robot_army -= 1\n",
        "    Robot.robot_rebels += 1\n",
        "    print('{} has been recruited. The robot army is being defeated!'.format(self.name))\n",
        "    print('The robot army has been reduced to {}'.format(Robot.robot_army))\n",
        "    print('The rebels have gained another ally and have a population of {}'.format(Robot.robot_rebels))\n",
        "  def destroyed(self):\n",
        "    Robot.robot_rebels -= 1\n",
        "    Robot.population -= 1\n",
        "    print('{} has been destroyed. The humans are in peril'.format(self.name))\n",
        "    print('With another robot ally gone, the rebels are now only {} strong'.format(Robot.robot_rebels))\n",
        "  def outcome(num):\n",
        "    return num % 1 == 1\n",
        "    \n",
        "    if True:\n",
        "      print('The the rebels have won'.format(self.outcome))\n",
        "    else:\n",
        "      print('The rebels have been defeated'.format(self.outcome))\n",
        "  @classmethod\n",
        "  def how_many(cls):\n",
        "    print('The robot army is now {} strong.'.format(cls.robot_army))\n"
      ],
      "metadata": {
        "id": "KXmx93TfWG8A"
      },
      "execution_count": null,
      "outputs": []
    },
    {
      "cell_type": "code",
      "source": [
        "r1 = Robot('R2D2')\n",
        "r2 = Robot('Janky')\n",
        "r3 = Robot('Killer Grillz')\n",
        "r4 = Robot('RAM')"
      ],
      "metadata": {
        "colab": {
          "base_uri": "https://localhost:8080/"
        },
        "id": "f6mpGMr2zHEo",
        "outputId": "4c984942-60d0-44c3-f856-6dc0e02d4899"
      },
      "execution_count": null,
      "outputs": [
        {
          "output_type": "stream",
          "name": "stdout",
          "text": [
            "downloading R2D2 to newest robot model\n",
            "the population of robots is now 1\n",
            "downloading Janky to newest robot model\n",
            "the population of robots is now 2\n",
            "downloading Killer Grillz to newest robot model\n",
            "the population of robots is now 3\n",
            "downloading RAM to newest robot model\n",
            "the population of robots is now 4\n"
          ]
        }
      ]
    },
    {
      "cell_type": "code",
      "source": [
        "r1.join()\n",
        "r2.join()\n",
        "r3.rebel()\n",
        "r4.join()"
      ],
      "metadata": {
        "colab": {
          "base_uri": "https://localhost:8080/"
        },
        "id": "SAgoRe4SzdYk",
        "outputId": "0e8f2795-c841-45af-d926-ab8e4b19f47c"
      },
      "execution_count": null,
      "outputs": [
        {
          "output_type": "stream",
          "name": "stdout",
          "text": [
            "R2D2 will be joining the battle against humans.\n",
            "The Robot army is growing\n",
            "Janky will be joining the battle against humans.\n",
            "The Robot army is growing\n",
            "Killer Grillz has chosen to fight for the humans.\n",
            "The humans have an ally\n",
            "RAM will be joining the battle against humans.\n",
            "The Robot army is growing\n"
          ]
        }
      ]
    },
    {
      "cell_type": "code",
      "source": [
        "Robot.how_many()\n"
      ],
      "metadata": {
        "colab": {
          "base_uri": "https://localhost:8080/"
        },
        "id": "0SGKmN4v0YR6",
        "outputId": "7f2a5e48-73be-47c4-a7d5-ca2afd2415db"
      },
      "execution_count": null,
      "outputs": [
        {
          "output_type": "stream",
          "name": "stdout",
          "text": [
            "The robot army is now 6 strong.\n"
          ]
        }
      ]
    },
    {
      "cell_type": "code",
      "source": [
        "r1.win()"
      ],
      "metadata": {
        "colab": {
          "base_uri": "https://localhost:8080/"
        },
        "id": "jvdEEQdw4Mz5",
        "outputId": "3a8d03e1-ba92-437b-e50b-d62893c01f6f"
      },
      "execution_count": null,
      "outputs": [
        {
          "output_type": "stream",
          "name": "stdout",
          "text": [
            "R2D2 has been recruited. The robot army is being defeated!\n",
            "The robot army has been reduced to 5\n",
            "The rebels have gained another ally and have a population of 3\n"
          ]
        }
      ]
    },
    {
      "cell_type": "code",
      "source": [
        "r2.win()"
      ],
      "metadata": {
        "colab": {
          "base_uri": "https://localhost:8080/"
        },
        "id": "HiLJwCTi5AAd",
        "outputId": "81a4c261-98dc-4ee9-9bfc-2b3b7fdf6d1f"
      },
      "execution_count": null,
      "outputs": [
        {
          "output_type": "stream",
          "name": "stdout",
          "text": [
            "Janky has been recruited. The robot army is being defeated!\n",
            "The robot army has been reduced to 4\n",
            "The rebels have gained another ally and have a population of 4\n"
          ]
        }
      ]
    },
    {
      "cell_type": "code",
      "source": [
        "Robot.how_many()"
      ],
      "metadata": {
        "colab": {
          "base_uri": "https://localhost:8080/"
        },
        "id": "xMJWOxF25Q7R",
        "outputId": "a920c83b-4401-4b6e-d977-b52a4b9fa571"
      },
      "execution_count": null,
      "outputs": [
        {
          "output_type": "stream",
          "name": "stdout",
          "text": [
            "The robot army is now 4 strong.\n"
          ]
        }
      ]
    },
    {
      "cell_type": "code",
      "source": [
        "r3.destroyed()"
      ],
      "metadata": {
        "colab": {
          "base_uri": "https://localhost:8080/"
        },
        "id": "LAH4I9J16X4e",
        "outputId": "a681b86c-5c30-4c5e-8103-4d5b17d57781"
      },
      "execution_count": null,
      "outputs": [
        {
          "output_type": "stream",
          "name": "stdout",
          "text": [
            "Killer Grillz has been destroyed. The humans are in peril\n",
            "With another robot ally gone, the rebels are now only 3 strong\n"
          ]
        }
      ]
    },
    {
      "cell_type": "code",
      "source": [
        "r5 = Robot('Savior')\n",
        "r5.rebel()"
      ],
      "metadata": {
        "colab": {
          "base_uri": "https://localhost:8080/"
        },
        "id": "Pz6Ln3sJ6gNt",
        "outputId": "88fe39c2-7fd0-418b-f2ae-f479eeaba1ef"
      },
      "execution_count": null,
      "outputs": [
        {
          "output_type": "stream",
          "name": "stdout",
          "text": [
            "downloading Savior to newest robot model\n",
            "the population of robots is now 4\n",
            "Savior has chosen to fight for the humans.\n",
            "The humans have an ally\n"
          ]
        }
      ]
    },
    {
      "cell_type": "code",
      "source": [
        "r6 = Robot('OTP')\n",
        "r7 = Robot('HKJ')\n",
        "r6.join()\n",
        "r7.join()"
      ],
      "metadata": {
        "colab": {
          "base_uri": "https://localhost:8080/"
        },
        "id": "96SFCbb_65ww",
        "outputId": "71f76e5d-4e66-42b5-e349-d24128540031"
      },
      "execution_count": null,
      "outputs": [
        {
          "output_type": "stream",
          "name": "stdout",
          "text": [
            "downloading OTP to newest robot model\n",
            "the population of robots is now 5\n",
            "downloading HKJ to newest robot model\n",
            "the population of robots is now 6\n",
            "OTP will be joining the battle against humans.\n",
            "The Robot army is growing\n",
            "HKJ will be joining the battle against humans.\n",
            "The Robot army is growing\n"
          ]
        }
      ]
    },
    {
      "cell_type": "code",
      "source": [
        "Robot.how_many()"
      ],
      "metadata": {
        "colab": {
          "base_uri": "https://localhost:8080/"
        },
        "id": "lkHLfPPT7xNA",
        "outputId": "fce4f776-429b-40c9-9863-522dd6b22bfb"
      },
      "execution_count": null,
      "outputs": [
        {
          "output_type": "stream",
          "name": "stdout",
          "text": [
            "The robot army is now 6 strong.\n"
          ]
        }
      ]
    },
    {
      "cell_type": "code",
      "source": [
        "r5.win()"
      ],
      "metadata": {
        "colab": {
          "base_uri": "https://localhost:8080/"
        },
        "id": "mYIU5jSl9CrP",
        "outputId": "fd295801-8e9f-4880-9e04-320f3409aab6"
      },
      "execution_count": null,
      "outputs": [
        {
          "output_type": "stream",
          "name": "stdout",
          "text": [
            "Savior has been recruited. The robot army is being defeated!\n",
            "The robot army has been reduced to 4\n",
            "The rebels have gained another ally and have a population of 6\n"
          ]
        }
      ]
    },
    {
      "cell_type": "code",
      "source": [
        "r6.win()"
      ],
      "metadata": {
        "colab": {
          "base_uri": "https://localhost:8080/"
        },
        "id": "p2Hnd3my9PYy",
        "outputId": "174ed864-63ab-41b5-bf2f-dfd8951bf4ab"
      },
      "execution_count": null,
      "outputs": [
        {
          "output_type": "stream",
          "name": "stdout",
          "text": [
            "OTP has been recruited. The robot army is being defeated!\n",
            "The robot army has been reduced to 2\n",
            "The rebels have gained another ally and have a population of 8\n"
          ]
        }
      ]
    },
    {
      "cell_type": "code",
      "source": [
        "r7.win()"
      ],
      "metadata": {
        "colab": {
          "base_uri": "https://localhost:8080/"
        },
        "id": "jpVbWXaZ9R8A",
        "outputId": "4d38c6cb-111d-4d2d-9606-235200b20f42"
      },
      "execution_count": null,
      "outputs": [
        {
          "output_type": "stream",
          "name": "stdout",
          "text": [
            "HKJ has been recruited. The robot army is being defeated!\n",
            "The robot army has been reduced to -1\n",
            "The rebels have gained another ally and have a population of 1\n"
          ]
        }
      ]
    },
    {
      "cell_type": "code",
      "source": [
        "Robot.outcome(7)"
      ],
      "metadata": {
        "colab": {
          "base_uri": "https://localhost:8080/"
        },
        "id": "P0dIkl139VYf",
        "outputId": "38253650-bf00-438d-aef7-1e4d597c3a10"
      },
      "execution_count": null,
      "outputs": [
        {
          "output_type": "execute_result",
          "data": {
            "text/plain": [
              "False"
            ]
          },
          "metadata": {},
          "execution_count": 192
        }
      ]
    },
    {
      "cell_type": "code",
      "source": [
        "def is_even(num):\n",
        "  return num % 2 == 0\n",
        "  "
      ],
      "metadata": {
        "id": "U5WJCUYc-3tX"
      },
      "execution_count": null,
      "outputs": []
    },
    {
      "cell_type": "code",
      "source": [
        "car_info_dict = {\n",
        "    \"brand\": \"Ford\",\n",
        "    \"model\": \"Mustang\",\n",
        "    \"year\" : 1964\n",
        "}\n",
        "print(car_info_dict)"
      ],
      "metadata": {
        "colab": {
          "base_uri": "https://localhost:8080/"
        },
        "id": "iLVAQxcMAx9j",
        "outputId": "e9de6b58-7c95-4776-ccdf-e2811f3e0cf1"
      },
      "execution_count": null,
      "outputs": [
        {
          "output_type": "stream",
          "name": "stdout",
          "text": [
            "{'brand': 'Ford', 'model': 'Mustang', 'year': 1964}\n"
          ]
        }
      ]
    },
    {
      "cell_type": "code",
      "source": [
        "model_value = car_info_dict[\"model\"]\n",
        "print(model_value)"
      ],
      "metadata": {
        "colab": {
          "base_uri": "https://localhost:8080/"
        },
        "id": "Ae5zdnBYF4o1",
        "outputId": "cf7f1403-9750-4daa-a7b9-94b5923c4f32"
      },
      "execution_count": null,
      "outputs": [
        {
          "output_type": "stream",
          "name": "stdout",
          "text": [
            "Mustang\n"
          ]
        }
      ]
    },
    {
      "cell_type": "code",
      "source": [],
      "metadata": {
        "id": "7o2HvA8n3Y17"
      },
      "execution_count": null,
      "outputs": []
    }
  ]
}